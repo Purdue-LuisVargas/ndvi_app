{
 "cells": [
  {
   "cell_type": "code",
   "execution_count": 6,
   "id": "8b0b1ef1",
   "metadata": {},
   "outputs": [],
   "source": [
    "# Sentinel subseting https://notebook.community/techforspace/sentinel/SNAP_Python_Tutorial_3/SNAP-Python_Tutorial_3\n",
    "\n",
    "# Import libaries\n",
    "from rasterstats import zonal_stats\n",
    "import os\n",
    "import pandas as pd\n",
    "import datetime\n",
    "\n",
    "import rasterio\n",
    "import numpy as np\n",
    "\n",
    "import seaborn as sns\n",
    "\n",
    "import matplotlib.pyplot as plt\n",
    "\n",
    "import plotly.express as px"
   ]
  },
  {
   "cell_type": "code",
   "execution_count": 2,
   "id": "80f9f41b",
   "metadata": {},
   "outputs": [],
   "source": [
    "# get the file names steored on a path and filter their names into a list\n",
    "def files_directory( path_shapes, extension ):\n",
    "\n",
    "    jp2s_dir = os.listdir(path_shapes)\n",
    "\n",
    "    # extension of images if there are other files \n",
    "    file_ext = extension\n",
    "\n",
    "    # filter the images if there are other files\n",
    "    files = [x for x in jp2s_dir if file_ext in x ]\n",
    "    \n",
    "    return files"
   ]
  },
  {
   "cell_type": "code",
   "execution_count": 11,
   "id": "1f7cb803",
   "metadata": {},
   "outputs": [
    {
     "name": "stdout",
     "output_type": "stream",
     "text": [
      "['2017_12_13_mosaic.tif', '2017_12_23_mosaic.tif', '2018_01_02_mosaic.tif', '2018_01_12_mosaic.tif', '2018_01_22_mosaic.tif', '2018_02_11_mosaic.tif', '2018_02_21_mosaic.tif']\n",
      "2017_12_13_mosaic.tif\n",
      "C:/Users/luizv/Documents/sentinel/NDVI_python/2017_12_13_ndvi.tif\n",
      "2017_12_23_mosaic.tif\n",
      "C:/Users/luizv/Documents/sentinel/NDVI_python/2017_12_23_ndvi.tif\n",
      "2018_01_02_mosaic.tif\n",
      "C:/Users/luizv/Documents/sentinel/NDVI_python/2018_01_02_ndvi.tif\n",
      "2018_01_12_mosaic.tif\n",
      "C:/Users/luizv/Documents/sentinel/NDVI_python/2018_01_12_ndvi.tif\n",
      "2018_01_22_mosaic.tif\n",
      "C:/Users/luizv/Documents/sentinel/NDVI_python/2018_01_22_ndvi.tif\n",
      "2018_02_11_mosaic.tif\n",
      "C:/Users/luizv/Documents/sentinel/NDVI_python/2018_02_11_ndvi.tif\n",
      "2018_02_21_mosaic.tif\n",
      "C:/Users/luizv/Documents/sentinel/NDVI_python/2018_02_21_ndvi.tif\n"
     ]
    }
   ],
   "source": [
    "## Calculte NDVI values from sentinel 2 images\n",
    "def ndvi_from_sentinel( path_mosaics, mosaic_files, path_ndvi ):\n",
    "    \n",
    "    for mosaic_file in mosaic_files:\n",
    "        \n",
    "        print(mosaic_file)\n",
    "        \n",
    "        # read mosaic image\n",
    "        mosaic_file_path = path_mosaics + mosaic_file\n",
    "        img = rasterio.open(mosaic_file_path)\n",
    "    \n",
    "        #Extract bands for calculate the NDVI value\n",
    "        band4 = img.read(5)\n",
    "        band8 = img.read(7)\n",
    "        \n",
    "        # calculate the ndvi value\n",
    "        nir = band8.astype('float32')\n",
    "        red = band4.astype('float32')\n",
    "        #ndvi = (band8 - band4) / (band8 + band4)\n",
    "        np.seterr(invalid='ignore')\n",
    "        # divide the values in Array1 by the values in Array2\n",
    "        ndvi = np.divide((nir - red), (nir + red))\n",
    "    \n",
    "        ndvi_file_name = path_ndvi + mosaic_file[:10] + '_ndvi.tif'\n",
    "        print(ndvi_file_name)\n",
    "        \n",
    "        # get the raster image metadata values and create the ndvi image\n",
    "        ndviImage = rasterio.open(ndvi_file_name, 'w', driver = 'GTiff', \n",
    "                          width = img.width,\n",
    "                          height = img.height,\n",
    "                          count = 1, \n",
    "                          crs = img.crs,\n",
    "                          transform = img.transform,\n",
    "                          dtype = 'float32',\n",
    "                          compress='lzw', nodata=0, tiled=True,)\n",
    "\n",
    "        # Save the image\n",
    "        ndviImage.write(ndvi,1)\n",
    "\n",
    "        ndviImage.close()    \n",
    "        \n",
    "# Set path for shapes\n",
    "path_mosaics = 'C:/Users/luizv/Documents/sentinel/mosaics_tiff/'\n",
    "\n",
    "mosaic_files = files_directory( path_mosaics, '.tif' )\n",
    "print(mosaic_files)\n",
    "\n",
    "# Set path for shape and NDVI\n",
    "path_ndvi = 'C:/Users/luizv/Documents/sentinel/NDVI_python/'\n",
    "\n",
    "ndvi_from_sentinel( path_mosaics, mosaic_files, path_ndvi )"
   ]
  },
  {
   "cell_type": "code",
   "execution_count": 25,
   "id": "d38ba4c4",
   "metadata": {},
   "outputs": [
    {
     "name": "stdout",
     "output_type": "stream",
     "text": [
      "Reading NDVI file: C:/Users/luizv/Documents/sentinel/NDVI_python/2017_12_13_ndvi.tif\n",
      "Reading shape file: C:/Users/luizv/Documents/sentinel/plot_shape_polygon/10T_RS.shp\n",
      "Reading shape file: C:/Users/luizv/Documents/sentinel/plot_shape_polygon/10T_TP_N.shp\n",
      "Reading shape file: C:/Users/luizv/Documents/sentinel/plot_shape_polygon/10T_TP_S.shp\n",
      "Reading shape file: C:/Users/luizv/Documents/sentinel/plot_shape_polygon/11T_RS.shp\n",
      "Reading shape file: C:/Users/luizv/Documents/sentinel/plot_shape_polygon/11T_TP_E.shp\n",
      "Reading shape file: C:/Users/luizv/Documents/sentinel/plot_shape_polygon/11T_TP_W.shp\n",
      "Reading shape file: C:/Users/luizv/Documents/sentinel/plot_shape_polygon/1M_RS.shp\n",
      "Reading shape file: C:/Users/luizv/Documents/sentinel/plot_shape_polygon/1M_TP_E.shp\n",
      "Reading shape file: C:/Users/luizv/Documents/sentinel/plot_shape_polygon/1M_TP_W.shp\n",
      "Reading shape file: C:/Users/luizv/Documents/sentinel/plot_shape_polygon/2M_RS.shp\n",
      "Reading shape file: C:/Users/luizv/Documents/sentinel/plot_shape_polygon/2M_TP_E.shp\n",
      "Reading shape file: C:/Users/luizv/Documents/sentinel/plot_shape_polygon/2M_TP_W.shp\n",
      "Reading shape file: C:/Users/luizv/Documents/sentinel/plot_shape_polygon/3M_RS.shp\n",
      "Reading shape file: C:/Users/luizv/Documents/sentinel/plot_shape_polygon/3M_TP_N.shp\n",
      "Reading shape file: C:/Users/luizv/Documents/sentinel/plot_shape_polygon/3M_TP_S.shp\n",
      "Reading shape file: C:/Users/luizv/Documents/sentinel/plot_shape_polygon/4M_RS.shp\n",
      "Reading shape file: C:/Users/luizv/Documents/sentinel/plot_shape_polygon/4M_TP_N.shp\n",
      "Reading shape file: C:/Users/luizv/Documents/sentinel/plot_shape_polygon/4M_TP_S.shp\n",
      "Reading shape file: C:/Users/luizv/Documents/sentinel/plot_shape_polygon/6M_RS.shp\n",
      "Reading shape file: C:/Users/luizv/Documents/sentinel/plot_shape_polygon/6M_TP_E.shp\n",
      "Reading shape file: C:/Users/luizv/Documents/sentinel/plot_shape_polygon/6M_TP_W.shp\n",
      "Reading shape file: C:/Users/luizv/Documents/sentinel/plot_shape_polygon/7T_RS.shp\n",
      "Reading shape file: C:/Users/luizv/Documents/sentinel/plot_shape_polygon/7T_TP_E.shp\n",
      "Reading shape file: C:/Users/luizv/Documents/sentinel/plot_shape_polygon/7T_TP_W.shp\n",
      "Reading shape file: C:/Users/luizv/Documents/sentinel/plot_shape_polygon/8T_RS.shp\n",
      "Reading shape file: C:/Users/luizv/Documents/sentinel/plot_shape_polygon/8T_TP_E.shp\n",
      "Reading shape file: C:/Users/luizv/Documents/sentinel/plot_shape_polygon/8T_TP_W.shp\n",
      "Reading shape file: C:/Users/luizv/Documents/sentinel/plot_shape_polygon/9T_RS.shp\n",
      "Reading shape file: C:/Users/luizv/Documents/sentinel/plot_shape_polygon/9T_TP_N.shp\n",
      "Reading shape file: C:/Users/luizv/Documents/sentinel/plot_shape_polygon/9T_TP_S.shp\n",
      "Reading NDVI file: C:/Users/luizv/Documents/sentinel/NDVI_python/2018_01_02_ndvi.tif\n",
      "Reading shape file: C:/Users/luizv/Documents/sentinel/plot_shape_polygon/10T_RS.shp\n",
      "Reading shape file: C:/Users/luizv/Documents/sentinel/plot_shape_polygon/10T_TP_N.shp\n",
      "Reading shape file: C:/Users/luizv/Documents/sentinel/plot_shape_polygon/10T_TP_S.shp\n",
      "Reading shape file: C:/Users/luizv/Documents/sentinel/plot_shape_polygon/11T_RS.shp\n",
      "Reading shape file: C:/Users/luizv/Documents/sentinel/plot_shape_polygon/11T_TP_E.shp\n",
      "Reading shape file: C:/Users/luizv/Documents/sentinel/plot_shape_polygon/11T_TP_W.shp\n",
      "Reading shape file: C:/Users/luizv/Documents/sentinel/plot_shape_polygon/1M_RS.shp\n",
      "Reading shape file: C:/Users/luizv/Documents/sentinel/plot_shape_polygon/1M_TP_E.shp\n",
      "Reading shape file: C:/Users/luizv/Documents/sentinel/plot_shape_polygon/1M_TP_W.shp\n",
      "Reading shape file: C:/Users/luizv/Documents/sentinel/plot_shape_polygon/2M_RS.shp\n",
      "Reading shape file: C:/Users/luizv/Documents/sentinel/plot_shape_polygon/2M_TP_E.shp\n",
      "Reading shape file: C:/Users/luizv/Documents/sentinel/plot_shape_polygon/2M_TP_W.shp\n",
      "Reading shape file: C:/Users/luizv/Documents/sentinel/plot_shape_polygon/3M_RS.shp\n",
      "Reading shape file: C:/Users/luizv/Documents/sentinel/plot_shape_polygon/3M_TP_N.shp\n",
      "Reading shape file: C:/Users/luizv/Documents/sentinel/plot_shape_polygon/3M_TP_S.shp\n",
      "Reading shape file: C:/Users/luizv/Documents/sentinel/plot_shape_polygon/4M_RS.shp\n",
      "Reading shape file: C:/Users/luizv/Documents/sentinel/plot_shape_polygon/4M_TP_N.shp\n",
      "Reading shape file: C:/Users/luizv/Documents/sentinel/plot_shape_polygon/4M_TP_S.shp\n",
      "Reading shape file: C:/Users/luizv/Documents/sentinel/plot_shape_polygon/6M_RS.shp\n",
      "Reading shape file: C:/Users/luizv/Documents/sentinel/plot_shape_polygon/6M_TP_E.shp\n",
      "Reading shape file: C:/Users/luizv/Documents/sentinel/plot_shape_polygon/6M_TP_W.shp\n",
      "Reading shape file: C:/Users/luizv/Documents/sentinel/plot_shape_polygon/7T_RS.shp\n",
      "Reading shape file: C:/Users/luizv/Documents/sentinel/plot_shape_polygon/7T_TP_E.shp\n",
      "Reading shape file: C:/Users/luizv/Documents/sentinel/plot_shape_polygon/7T_TP_W.shp\n",
      "Reading shape file: C:/Users/luizv/Documents/sentinel/plot_shape_polygon/8T_RS.shp\n",
      "Reading shape file: C:/Users/luizv/Documents/sentinel/plot_shape_polygon/8T_TP_E.shp\n",
      "Reading shape file: C:/Users/luizv/Documents/sentinel/plot_shape_polygon/8T_TP_W.shp\n",
      "Reading shape file: C:/Users/luizv/Documents/sentinel/plot_shape_polygon/9T_RS.shp\n",
      "Reading shape file: C:/Users/luizv/Documents/sentinel/plot_shape_polygon/9T_TP_N.shp\n",
      "Reading shape file: C:/Users/luizv/Documents/sentinel/plot_shape_polygon/9T_TP_S.shp\n",
      "Reading NDVI file: C:/Users/luizv/Documents/sentinel/NDVI_python/2018_01_12_ndvi.tif\n",
      "Reading shape file: C:/Users/luizv/Documents/sentinel/plot_shape_polygon/10T_RS.shp\n",
      "Reading shape file: C:/Users/luizv/Documents/sentinel/plot_shape_polygon/10T_TP_N.shp\n",
      "Reading shape file: C:/Users/luizv/Documents/sentinel/plot_shape_polygon/10T_TP_S.shp\n",
      "Reading shape file: C:/Users/luizv/Documents/sentinel/plot_shape_polygon/11T_RS.shp\n",
      "Reading shape file: C:/Users/luizv/Documents/sentinel/plot_shape_polygon/11T_TP_E.shp\n",
      "Reading shape file: C:/Users/luizv/Documents/sentinel/plot_shape_polygon/11T_TP_W.shp\n",
      "Reading shape file: C:/Users/luizv/Documents/sentinel/plot_shape_polygon/1M_RS.shp\n",
      "Reading shape file: C:/Users/luizv/Documents/sentinel/plot_shape_polygon/1M_TP_E.shp\n",
      "Reading shape file: C:/Users/luizv/Documents/sentinel/plot_shape_polygon/1M_TP_W.shp\n",
      "Reading shape file: C:/Users/luizv/Documents/sentinel/plot_shape_polygon/2M_RS.shp\n",
      "Reading shape file: C:/Users/luizv/Documents/sentinel/plot_shape_polygon/2M_TP_E.shp\n",
      "Reading shape file: C:/Users/luizv/Documents/sentinel/plot_shape_polygon/2M_TP_W.shp\n",
      "Reading shape file: C:/Users/luizv/Documents/sentinel/plot_shape_polygon/3M_RS.shp\n",
      "Reading shape file: C:/Users/luizv/Documents/sentinel/plot_shape_polygon/3M_TP_N.shp\n",
      "Reading shape file: C:/Users/luizv/Documents/sentinel/plot_shape_polygon/3M_TP_S.shp\n",
      "Reading shape file: C:/Users/luizv/Documents/sentinel/plot_shape_polygon/4M_RS.shp\n",
      "Reading shape file: C:/Users/luizv/Documents/sentinel/plot_shape_polygon/4M_TP_N.shp\n",
      "Reading shape file: C:/Users/luizv/Documents/sentinel/plot_shape_polygon/4M_TP_S.shp\n",
      "Reading shape file: C:/Users/luizv/Documents/sentinel/plot_shape_polygon/6M_RS.shp\n",
      "Reading shape file: C:/Users/luizv/Documents/sentinel/plot_shape_polygon/6M_TP_E.shp\n",
      "Reading shape file: C:/Users/luizv/Documents/sentinel/plot_shape_polygon/6M_TP_W.shp\n",
      "Reading shape file: C:/Users/luizv/Documents/sentinel/plot_shape_polygon/7T_RS.shp\n",
      "Reading shape file: C:/Users/luizv/Documents/sentinel/plot_shape_polygon/7T_TP_E.shp\n",
      "Reading shape file: C:/Users/luizv/Documents/sentinel/plot_shape_polygon/7T_TP_W.shp\n",
      "Reading shape file: C:/Users/luizv/Documents/sentinel/plot_shape_polygon/8T_RS.shp\n",
      "Reading shape file: C:/Users/luizv/Documents/sentinel/plot_shape_polygon/8T_TP_E.shp\n",
      "Reading shape file: C:/Users/luizv/Documents/sentinel/plot_shape_polygon/8T_TP_W.shp\n",
      "Reading shape file: C:/Users/luizv/Documents/sentinel/plot_shape_polygon/9T_RS.shp\n",
      "Reading shape file: C:/Users/luizv/Documents/sentinel/plot_shape_polygon/9T_TP_N.shp\n",
      "Reading shape file: C:/Users/luizv/Documents/sentinel/plot_shape_polygon/9T_TP_S.shp\n",
      "Reading NDVI file: C:/Users/luizv/Documents/sentinel/NDVI_python/2018_01_22_ndvi.tif\n",
      "Reading shape file: C:/Users/luizv/Documents/sentinel/plot_shape_polygon/10T_RS.shp\n",
      "Reading shape file: C:/Users/luizv/Documents/sentinel/plot_shape_polygon/10T_TP_N.shp\n",
      "Reading shape file: C:/Users/luizv/Documents/sentinel/plot_shape_polygon/10T_TP_S.shp\n",
      "Reading shape file: C:/Users/luizv/Documents/sentinel/plot_shape_polygon/11T_RS.shp\n",
      "Reading shape file: C:/Users/luizv/Documents/sentinel/plot_shape_polygon/11T_TP_E.shp\n",
      "Reading shape file: C:/Users/luizv/Documents/sentinel/plot_shape_polygon/11T_TP_W.shp\n",
      "Reading shape file: C:/Users/luizv/Documents/sentinel/plot_shape_polygon/1M_RS.shp\n",
      "Reading shape file: C:/Users/luizv/Documents/sentinel/plot_shape_polygon/1M_TP_E.shp\n",
      "Reading shape file: C:/Users/luizv/Documents/sentinel/plot_shape_polygon/1M_TP_W.shp\n",
      "Reading shape file: C:/Users/luizv/Documents/sentinel/plot_shape_polygon/2M_RS.shp\n",
      "Reading shape file: C:/Users/luizv/Documents/sentinel/plot_shape_polygon/2M_TP_E.shp\n",
      "Reading shape file: C:/Users/luizv/Documents/sentinel/plot_shape_polygon/2M_TP_W.shp\n",
      "Reading shape file: C:/Users/luizv/Documents/sentinel/plot_shape_polygon/3M_RS.shp\n",
      "Reading shape file: C:/Users/luizv/Documents/sentinel/plot_shape_polygon/3M_TP_N.shp\n",
      "Reading shape file: C:/Users/luizv/Documents/sentinel/plot_shape_polygon/3M_TP_S.shp\n",
      "Reading shape file: C:/Users/luizv/Documents/sentinel/plot_shape_polygon/4M_RS.shp\n"
     ]
    },
    {
     "name": "stdout",
     "output_type": "stream",
     "text": [
      "Reading shape file: C:/Users/luizv/Documents/sentinel/plot_shape_polygon/4M_TP_N.shp\n",
      "Reading shape file: C:/Users/luizv/Documents/sentinel/plot_shape_polygon/4M_TP_S.shp\n",
      "Reading shape file: C:/Users/luizv/Documents/sentinel/plot_shape_polygon/6M_RS.shp\n",
      "Reading shape file: C:/Users/luizv/Documents/sentinel/plot_shape_polygon/6M_TP_E.shp\n",
      "Reading shape file: C:/Users/luizv/Documents/sentinel/plot_shape_polygon/6M_TP_W.shp\n",
      "Reading shape file: C:/Users/luizv/Documents/sentinel/plot_shape_polygon/7T_RS.shp\n",
      "Reading shape file: C:/Users/luizv/Documents/sentinel/plot_shape_polygon/7T_TP_E.shp\n",
      "Reading shape file: C:/Users/luizv/Documents/sentinel/plot_shape_polygon/7T_TP_W.shp\n",
      "Reading shape file: C:/Users/luizv/Documents/sentinel/plot_shape_polygon/8T_RS.shp\n",
      "Reading shape file: C:/Users/luizv/Documents/sentinel/plot_shape_polygon/8T_TP_E.shp\n",
      "Reading shape file: C:/Users/luizv/Documents/sentinel/plot_shape_polygon/8T_TP_W.shp\n",
      "Reading shape file: C:/Users/luizv/Documents/sentinel/plot_shape_polygon/9T_RS.shp\n",
      "Reading shape file: C:/Users/luizv/Documents/sentinel/plot_shape_polygon/9T_TP_N.shp\n",
      "Reading shape file: C:/Users/luizv/Documents/sentinel/plot_shape_polygon/9T_TP_S.shp\n",
      "Reading NDVI file: C:/Users/luizv/Documents/sentinel/NDVI_python/2018_02_11_ndvi.tif\n",
      "Reading shape file: C:/Users/luizv/Documents/sentinel/plot_shape_polygon/10T_RS.shp\n",
      "Reading shape file: C:/Users/luizv/Documents/sentinel/plot_shape_polygon/10T_TP_N.shp\n",
      "Reading shape file: C:/Users/luizv/Documents/sentinel/plot_shape_polygon/10T_TP_S.shp\n",
      "Reading shape file: C:/Users/luizv/Documents/sentinel/plot_shape_polygon/11T_RS.shp\n",
      "Reading shape file: C:/Users/luizv/Documents/sentinel/plot_shape_polygon/11T_TP_E.shp\n",
      "Reading shape file: C:/Users/luizv/Documents/sentinel/plot_shape_polygon/11T_TP_W.shp\n",
      "Reading shape file: C:/Users/luizv/Documents/sentinel/plot_shape_polygon/1M_RS.shp\n",
      "Reading shape file: C:/Users/luizv/Documents/sentinel/plot_shape_polygon/1M_TP_E.shp\n",
      "Reading shape file: C:/Users/luizv/Documents/sentinel/plot_shape_polygon/1M_TP_W.shp\n",
      "Reading shape file: C:/Users/luizv/Documents/sentinel/plot_shape_polygon/2M_RS.shp\n",
      "Reading shape file: C:/Users/luizv/Documents/sentinel/plot_shape_polygon/2M_TP_E.shp\n",
      "Reading shape file: C:/Users/luizv/Documents/sentinel/plot_shape_polygon/2M_TP_W.shp\n",
      "Reading shape file: C:/Users/luizv/Documents/sentinel/plot_shape_polygon/3M_RS.shp\n",
      "Reading shape file: C:/Users/luizv/Documents/sentinel/plot_shape_polygon/3M_TP_N.shp\n",
      "Reading shape file: C:/Users/luizv/Documents/sentinel/plot_shape_polygon/3M_TP_S.shp\n",
      "Reading shape file: C:/Users/luizv/Documents/sentinel/plot_shape_polygon/4M_RS.shp\n",
      "Reading shape file: C:/Users/luizv/Documents/sentinel/plot_shape_polygon/4M_TP_N.shp\n",
      "Reading shape file: C:/Users/luizv/Documents/sentinel/plot_shape_polygon/4M_TP_S.shp\n",
      "Reading shape file: C:/Users/luizv/Documents/sentinel/plot_shape_polygon/6M_RS.shp\n",
      "Reading shape file: C:/Users/luizv/Documents/sentinel/plot_shape_polygon/6M_TP_E.shp\n",
      "Reading shape file: C:/Users/luizv/Documents/sentinel/plot_shape_polygon/6M_TP_W.shp\n",
      "Reading shape file: C:/Users/luizv/Documents/sentinel/plot_shape_polygon/7T_RS.shp\n",
      "Reading shape file: C:/Users/luizv/Documents/sentinel/plot_shape_polygon/7T_TP_E.shp\n",
      "Reading shape file: C:/Users/luizv/Documents/sentinel/plot_shape_polygon/7T_TP_W.shp\n",
      "Reading shape file: C:/Users/luizv/Documents/sentinel/plot_shape_polygon/8T_RS.shp\n",
      "Reading shape file: C:/Users/luizv/Documents/sentinel/plot_shape_polygon/8T_TP_E.shp\n",
      "Reading shape file: C:/Users/luizv/Documents/sentinel/plot_shape_polygon/8T_TP_W.shp\n",
      "Reading shape file: C:/Users/luizv/Documents/sentinel/plot_shape_polygon/9T_RS.shp\n",
      "Reading shape file: C:/Users/luizv/Documents/sentinel/plot_shape_polygon/9T_TP_N.shp\n",
      "Reading shape file: C:/Users/luizv/Documents/sentinel/plot_shape_polygon/9T_TP_S.shp\n",
      "Reading NDVI file: C:/Users/luizv/Documents/sentinel/NDVI_python/2018_02_21_ndvi.tif\n",
      "Reading shape file: C:/Users/luizv/Documents/sentinel/plot_shape_polygon/10T_RS.shp\n",
      "Reading shape file: C:/Users/luizv/Documents/sentinel/plot_shape_polygon/10T_TP_N.shp\n",
      "Reading shape file: C:/Users/luizv/Documents/sentinel/plot_shape_polygon/10T_TP_S.shp\n",
      "Reading shape file: C:/Users/luizv/Documents/sentinel/plot_shape_polygon/11T_RS.shp\n",
      "Reading shape file: C:/Users/luizv/Documents/sentinel/plot_shape_polygon/11T_TP_E.shp\n",
      "Reading shape file: C:/Users/luizv/Documents/sentinel/plot_shape_polygon/11T_TP_W.shp\n",
      "Reading shape file: C:/Users/luizv/Documents/sentinel/plot_shape_polygon/1M_RS.shp\n",
      "Reading shape file: C:/Users/luizv/Documents/sentinel/plot_shape_polygon/1M_TP_E.shp\n",
      "Reading shape file: C:/Users/luizv/Documents/sentinel/plot_shape_polygon/1M_TP_W.shp\n",
      "Reading shape file: C:/Users/luizv/Documents/sentinel/plot_shape_polygon/2M_RS.shp\n",
      "Reading shape file: C:/Users/luizv/Documents/sentinel/plot_shape_polygon/2M_TP_E.shp\n",
      "Reading shape file: C:/Users/luizv/Documents/sentinel/plot_shape_polygon/2M_TP_W.shp\n",
      "Reading shape file: C:/Users/luizv/Documents/sentinel/plot_shape_polygon/3M_RS.shp\n",
      "Reading shape file: C:/Users/luizv/Documents/sentinel/plot_shape_polygon/3M_TP_N.shp\n",
      "Reading shape file: C:/Users/luizv/Documents/sentinel/plot_shape_polygon/3M_TP_S.shp\n",
      "Reading shape file: C:/Users/luizv/Documents/sentinel/plot_shape_polygon/4M_RS.shp\n",
      "Reading shape file: C:/Users/luizv/Documents/sentinel/plot_shape_polygon/4M_TP_N.shp\n",
      "Reading shape file: C:/Users/luizv/Documents/sentinel/plot_shape_polygon/4M_TP_S.shp\n",
      "Reading shape file: C:/Users/luizv/Documents/sentinel/plot_shape_polygon/6M_RS.shp\n",
      "Reading shape file: C:/Users/luizv/Documents/sentinel/plot_shape_polygon/6M_TP_E.shp\n",
      "Reading shape file: C:/Users/luizv/Documents/sentinel/plot_shape_polygon/6M_TP_W.shp\n",
      "Reading shape file: C:/Users/luizv/Documents/sentinel/plot_shape_polygon/7T_RS.shp\n",
      "Reading shape file: C:/Users/luizv/Documents/sentinel/plot_shape_polygon/7T_TP_E.shp\n",
      "Reading shape file: C:/Users/luizv/Documents/sentinel/plot_shape_polygon/7T_TP_W.shp\n",
      "Reading shape file: C:/Users/luizv/Documents/sentinel/plot_shape_polygon/8T_RS.shp\n",
      "Reading shape file: C:/Users/luizv/Documents/sentinel/plot_shape_polygon/8T_TP_E.shp\n",
      "Reading shape file: C:/Users/luizv/Documents/sentinel/plot_shape_polygon/8T_TP_W.shp\n",
      "Reading shape file: C:/Users/luizv/Documents/sentinel/plot_shape_polygon/9T_RS.shp\n",
      "Reading shape file: C:/Users/luizv/Documents/sentinel/plot_shape_polygon/9T_TP_N.shp\n",
      "Reading shape file: C:/Users/luizv/Documents/sentinel/plot_shape_polygon/9T_TP_S.shp\n"
     ]
    }
   ],
   "source": [
    "## read the NDVI values and store them into a data frame\n",
    "def getRasterValues(path_ndvi, ndvi_files, path_shapes, shp_files):\n",
    "    # create an empty dataframe to store the geom information\n",
    "    raster_df = pd.DataFrame(columns = ['crop', 'plot', 'trt', 'date_sensed', 'value', 'min', 'max', 'mean', 'count'])\n",
    "\n",
    "    #read each tif file\n",
    "    for ndvi_file in ndvi_files:\n",
    "\n",
    "        ndvi_file_path = path_ndvi + ndvi_file\n",
    "\n",
    "        # extract date\n",
    "        date_sensed = datetime.datetime(int(ndvi_file[:4]), int(ndvi_file[5:7]), int(ndvi_file[8:10]))\n",
    "        \n",
    "        print('Reading NDVI file: ' + ndvi_file_path)\n",
    "        #read each shape file\n",
    "        for shp_file in shp_files:\n",
    "\n",
    "            shp_file_path = path_shapes + shp_file\n",
    "               \n",
    "            print('Reading shape file: ' + shp_file_path)\n",
    "            \n",
    "            # extract plot and trt values\n",
    "            plot_name = shp_file.strip('.shp')\n",
    "            \n",
    "            plot_crop = plot_name[plot_name.find('_')-1:plot_name.find('_')]            \n",
    "            \n",
    "            plot = plot_name[:plot_name.find('_')-1]\n",
    "\n",
    "            trt = plot_name[plot_name.find('_')+1 : plot_name.find('_')+3]\n",
    "            \n",
    "            # convert to compleate names\n",
    "            if trt == 'RS':\n",
    "                trt = 'N-Rich strip'  \n",
    "            else:\n",
    "                trt = 'Farmer Practice' + ' ' + plot_name[len(plot_name)-1:]\n",
    "\n",
    "            # convert crop name\n",
    "            if plot_crop == 'M':\n",
    "                crop = 'Maize'\n",
    "            else:\n",
    "                crop = 'Wheat'\n",
    "\n",
    "            # Calculate the NDVI values of each polygon\n",
    "            stats = zonal_stats(shp_file_path, ndvi_file_path)\n",
    "\n",
    "            # add the values to the pandas data frame\n",
    "            raster_df = raster_df.append({'crop' : crop, 'plot' : int(plot), 'trt' : trt, 'date_sensed' : date_sensed,\n",
    "                                                'value' : ndvi_file[11:15], 'min' : stats[0]['min'], 'max' : stats[0]['max'],\n",
    "                                                'mean' : stats[0]['mean'], 'count' : stats[0]['count']}, ignore_index = True)\n",
    "            \n",
    "    return raster_df\n",
    "   \n",
    "## Run the getRasterValues() function\n",
    "\n",
    "# Set path for shapes\n",
    "path_shapes = 'C:/Users/luizv/Documents/sentinel/plot_shape_polygon/'\n",
    "shape_ext = '.shp'\n",
    "\n",
    "# Set path for shape and NDVI\n",
    "path_ndvi = 'C:/Users/luizv/Documents/sentinel/NDVI_python/'\n",
    "ndvi_ext = '.tif'\n",
    "\n",
    "shp_files = files_directory( path_shapes, shape_ext )\n",
    "\n",
    "ndvi_files = files_directory( path_ndvi, ndvi_ext )\n",
    "ndvi_obregon = getRasterValues( path_ndvi, ndvi_files, path_shapes, shp_files)\n",
    "\n",
    "#print(ndvi_obregon)"
   ]
  },
  {
   "cell_type": "code",
   "execution_count": 32,
   "id": "64394704",
   "metadata": {},
   "outputs": [],
   "source": [
    "## add sowing date to the data frame\n",
    "\n",
    "# read sowing dates dataframe\n",
    "fileName = 'treatments_2018.csv'\n",
    "plant_dates = pd.read_csv(fileName) \n",
    "plant_dates\n",
    "\n",
    "# transform date into datetime\n",
    "plant_dates['sowing date'] = plant_dates['sowing date'].apply(pd.to_datetime)\n",
    "\n",
    "# join the dataframe \n",
    "dfinal = ndvi_obregon.merge(plant_dates, on = 'plot', how = 'inner')\n",
    "\n",
    "# create days after sowing column\n",
    "dfinal['days after sowing'] = dfinal['date_sensed'] - dfinal['sowing date']\n",
    "# Transform days timestamp into integer value\n",
    "dfinal['days after sowing'] = [int(day.split()[0]) for day in dfinal['days after sowing'].astype(str)]\n",
    "\n",
    "# save as csv file\n",
    "dfinal.to_csv('treatments_2018_joined.csv')"
   ]
  },
  {
   "cell_type": "code",
   "execution_count": 60,
   "id": "160089f7",
   "metadata": {},
   "outputs": [
    {
     "data": {
      "application/vnd.plotly.v1+json": {
       "config": {
        "plotlyServerURL": "https://plot.ly"
       },
       "data": [
        {
         "hovertemplate": "trt=N-Rich strip<br>plot=10<br>days after sowing=%{x}<br>mean=%{y}<extra></extra>",
         "legendgroup": "N-Rich strip",
         "line": {
          "color": "#636efa",
          "dash": "solid"
         },
         "marker": {
          "symbol": "circle"
         },
         "mode": "lines",
         "name": "N-Rich strip",
         "orientation": "v",
         "showlegend": true,
         "type": "scatter",
         "x": [
          7,
          27,
          37,
          47,
          67,
          77
         ],
         "xaxis": "x",
         "y": [
          0.10678827135186446,
          0.5501210062127364,
          0.7835693861308851,
          0.8825772937975431,
          0.9381894563373766,
          0.9392532549406353
         ],
         "yaxis": "y"
        },
        {
         "hovertemplate": "trt=N-Rich strip<br>plot=11<br>days after sowing=%{x}<br>mean=%{y}<extra></extra>",
         "legendgroup": "N-Rich strip",
         "line": {
          "color": "#636efa",
          "dash": "solid"
         },
         "marker": {
          "symbol": "circle"
         },
         "mode": "lines",
         "name": "N-Rich strip",
         "orientation": "v",
         "showlegend": false,
         "type": "scatter",
         "x": [
          14,
          34,
          44,
          54,
          74,
          84
         ],
         "xaxis": "x2",
         "y": [
          0.22570518737143658,
          0.6322214654151429,
          0.7599786799004737,
          0.8448966817652925,
          0.9224458248057263,
          0.9224458248057263
         ],
         "yaxis": "y2"
        },
        {
         "hovertemplate": "trt=N-Rich strip<br>plot=7<br>days after sowing=%{x}<br>mean=%{y}<extra></extra>",
         "legendgroup": "N-Rich strip",
         "line": {
          "color": "#636efa",
          "dash": "solid"
         },
         "marker": {
          "symbol": "circle"
         },
         "mode": "lines",
         "name": "N-Rich strip",
         "orientation": "v",
         "showlegend": false,
         "type": "scatter",
         "x": [
          14,
          34,
          44,
          54,
          74,
          84
         ],
         "xaxis": "x3",
         "y": [
          0.23139896908321897,
          0.759235278980152,
          0.8514042416134396,
          0.9059788471943623,
          0.9267586372994088,
          0.9267586372994088
         ],
         "yaxis": "y3"
        },
        {
         "hovertemplate": "trt=N-Rich strip<br>plot=8<br>days after sowing=%{x}<br>mean=%{y}<extra></extra>",
         "legendgroup": "N-Rich strip",
         "line": {
          "color": "#636efa",
          "dash": "solid"
         },
         "marker": {
          "symbol": "circle"
         },
         "mode": "lines",
         "name": "N-Rich strip",
         "orientation": "v",
         "showlegend": false,
         "type": "scatter",
         "x": [
          -4,
          16,
          26,
          36,
          56,
          66
         ],
         "xaxis": "x4",
         "y": [
          0.1360362424688824,
          0.17756888826014633,
          0.4567154059975834,
          0.7093297667422537,
          0.8504279185149629,
          0.8504279185149629
         ],
         "yaxis": "y4"
        },
        {
         "hovertemplate": "trt=N-Rich strip<br>plot=9<br>days after sowing=%{x}<br>mean=%{y}<extra></extra>",
         "legendgroup": "N-Rich strip",
         "line": {
          "color": "#636efa",
          "dash": "solid"
         },
         "marker": {
          "symbol": "circle"
         },
         "mode": "lines",
         "name": "N-Rich strip",
         "orientation": "v",
         "showlegend": false,
         "type": "scatter",
         "x": [
          12,
          32,
          42,
          52,
          72,
          82
         ],
         "xaxis": "x5",
         "y": [
          0.13866940566471644,
          0.7172884941101074,
          0.8982584817068917,
          0.9349738529750279,
          0.9408815247671944,
          0.9431601251874652
         ],
         "yaxis": "y5"
        },
        {
         "hovertemplate": "trt=Farmer Practice N<br>plot=10<br>days after sowing=%{x}<br>mean=%{y}<extra></extra>",
         "legendgroup": "Farmer Practice N",
         "line": {
          "color": "#EF553B",
          "dash": "solid"
         },
         "marker": {
          "symbol": "circle"
         },
         "mode": "lines",
         "name": "Farmer Practice N",
         "orientation": "v",
         "showlegend": true,
         "type": "scatter",
         "x": [
          7,
          27,
          37,
          47,
          67,
          77
         ],
         "xaxis": "x",
         "y": [
          0.10947137312455611,
          0.5462136008522728,
          0.7895387129350142,
          0.8854986017400568,
          0.9347803289240056,
          0.9369825883345171
         ],
         "yaxis": "y"
        },
        {
         "hovertemplate": "trt=Farmer Practice N<br>plot=9<br>days after sowing=%{x}<br>mean=%{y}<extra></extra>",
         "legendgroup": "Farmer Practice N",
         "line": {
          "color": "#EF553B",
          "dash": "solid"
         },
         "marker": {
          "symbol": "circle"
         },
         "mode": "lines",
         "name": "Farmer Practice N",
         "orientation": "v",
         "showlegend": false,
         "type": "scatter",
         "x": [
          12,
          32,
          42,
          52,
          72,
          82
         ],
         "xaxis": "x5",
         "y": [
          0.14882179761024975,
          0.7073559853100869,
          0.8864995890142374,
          0.9289002878785594,
          0.9385520905601472,
          0.9412343971517555
         ],
         "yaxis": "y5"
        },
        {
         "hovertemplate": "trt=Farmer Practice S<br>plot=10<br>days after sowing=%{x}<br>mean=%{y}<extra></extra>",
         "legendgroup": "Farmer Practice S",
         "line": {
          "color": "#00cc96",
          "dash": "solid"
         },
         "marker": {
          "symbol": "circle"
         },
         "mode": "lines",
         "name": "Farmer Practice S",
         "orientation": "v",
         "showlegend": true,
         "type": "scatter",
         "x": [
          7,
          27,
          37,
          47,
          67,
          77
         ],
         "xaxis": "x",
         "y": [
          0.11128864790263929,
          0.5827631699411493,
          0.8034456152664987,
          0.8898378673352694,
          0.93914794921875,
          0.9398080926192435
         ],
         "yaxis": "y"
        },
        {
         "hovertemplate": "trt=Farmer Practice S<br>plot=9<br>days after sowing=%{x}<br>mean=%{y}<extra></extra>",
         "legendgroup": "Farmer Practice S",
         "line": {
          "color": "#00cc96",
          "dash": "solid"
         },
         "marker": {
          "symbol": "circle"
         },
         "mode": "lines",
         "name": "Farmer Practice S",
         "orientation": "v",
         "showlegend": false,
         "type": "scatter",
         "x": [
          12,
          32,
          42,
          52,
          72,
          82
         ],
         "xaxis": "x5",
         "y": [
          0.13058794753451944,
          0.6997198328583188,
          0.8792385457761245,
          0.9242653211589836,
          0.9347384928708996,
          0.9373135576191289
         ],
         "yaxis": "y5"
        },
        {
         "hovertemplate": "trt=Farmer Practice E<br>plot=11<br>days after sowing=%{x}<br>mean=%{y}<extra></extra>",
         "legendgroup": "Farmer Practice E",
         "line": {
          "color": "#ab63fa",
          "dash": "solid"
         },
         "marker": {
          "symbol": "circle"
         },
         "mode": "lines",
         "name": "Farmer Practice E",
         "orientation": "v",
         "showlegend": true,
         "type": "scatter",
         "x": [
          14,
          34,
          44,
          54,
          74,
          84
         ],
         "xaxis": "x2",
         "y": [
          0.23340123632679816,
          0.6178864188816237,
          0.7482749275539232,
          0.8374755693518597,
          0.9254672838293988,
          0.9254672838293988
         ],
         "yaxis": "y2"
        },
        {
         "hovertemplate": "trt=Farmer Practice E<br>plot=7<br>days after sowing=%{x}<br>mean=%{y}<extra></extra>",
         "legendgroup": "Farmer Practice E",
         "line": {
          "color": "#ab63fa",
          "dash": "solid"
         },
         "marker": {
          "symbol": "circle"
         },
         "mode": "lines",
         "name": "Farmer Practice E",
         "orientation": "v",
         "showlegend": false,
         "type": "scatter",
         "x": [
          14,
          34,
          44,
          54,
          74,
          84
         ],
         "xaxis": "x3",
         "y": [
          0.23894951653587443,
          0.7496851352298206,
          0.8542549441213565,
          0.902541252102018,
          0.9263793397911996,
          0.9263793397911996
         ],
         "yaxis": "y3"
        },
        {
         "hovertemplate": "trt=Farmer Practice E<br>plot=8<br>days after sowing=%{x}<br>mean=%{y}<extra></extra>",
         "legendgroup": "Farmer Practice E",
         "line": {
          "color": "#ab63fa",
          "dash": "solid"
         },
         "marker": {
          "symbol": "circle"
         },
         "mode": "lines",
         "name": "Farmer Practice E",
         "orientation": "v",
         "showlegend": false,
         "type": "scatter",
         "x": [
          -4,
          16,
          26,
          36,
          56,
          66
         ],
         "xaxis": "x4",
         "y": [
          0.14348256509451685,
          0.19251131603055008,
          0.5098236847929019,
          0.7693380122128212,
          0.8848318067306901,
          0.8848318067306901
         ],
         "yaxis": "y4"
        },
        {
         "hovertemplate": "trt=Farmer Practice W<br>plot=11<br>days after sowing=%{x}<br>mean=%{y}<extra></extra>",
         "legendgroup": "Farmer Practice W",
         "line": {
          "color": "#FFA15A",
          "dash": "solid"
         },
         "marker": {
          "symbol": "circle"
         },
         "mode": "lines",
         "name": "Farmer Practice W",
         "orientation": "v",
         "showlegend": true,
         "type": "scatter",
         "x": [
          14,
          34,
          44,
          54,
          74,
          84
         ],
         "xaxis": "x2",
         "y": [
          0.27827832522808305,
          0.6125382801030306,
          0.7254006302596738,
          0.802431349786336,
          0.8614577735030411,
          0.8614577735030411
         ],
         "yaxis": "y2"
        },
        {
         "hovertemplate": "trt=Farmer Practice W<br>plot=7<br>days after sowing=%{x}<br>mean=%{y}<extra></extra>",
         "legendgroup": "Farmer Practice W",
         "line": {
          "color": "#FFA15A",
          "dash": "solid"
         },
         "marker": {
          "symbol": "circle"
         },
         "mode": "lines",
         "name": "Farmer Practice W",
         "orientation": "v",
         "showlegend": false,
         "type": "scatter",
         "x": [
          14,
          34,
          44,
          54,
          74,
          84
         ],
         "xaxis": "x3",
         "y": [
          0.22470917213456562,
          0.7388596212682121,
          0.8410101331656795,
          0.9017029473464733,
          0.9243453281377655,
          0.9243453281377655
         ],
         "yaxis": "y3"
        },
        {
         "hovertemplate": "trt=Farmer Practice W<br>plot=8<br>days after sowing=%{x}<br>mean=%{y}<extra></extra>",
         "legendgroup": "Farmer Practice W",
         "line": {
          "color": "#FFA15A",
          "dash": "solid"
         },
         "marker": {
          "symbol": "circle"
         },
         "mode": "lines",
         "name": "Farmer Practice W",
         "orientation": "v",
         "showlegend": false,
         "type": "scatter",
         "x": [
          -4,
          16,
          26,
          36,
          56,
          66
         ],
         "xaxis": "x4",
         "y": [
          0.13247101811876885,
          0.18339964020348107,
          0.4818479318081853,
          0.7379340205051944,
          0.8871453415612433,
          0.8871453415612433
         ],
         "yaxis": "y4"
        }
       ],
       "layout": {
        "annotations": [
         {
          "font": {},
          "showarrow": false,
          "text": "10",
          "x": 0.09200000000000001,
          "xanchor": "center",
          "xref": "paper",
          "y": 1,
          "yanchor": "bottom",
          "yref": "paper"
         },
         {
          "font": {},
          "showarrow": false,
          "text": "11",
          "x": 0.29600000000000004,
          "xanchor": "center",
          "xref": "paper",
          "y": 1,
          "yanchor": "bottom",
          "yref": "paper"
         },
         {
          "font": {},
          "showarrow": false,
          "text": "7",
          "x": 0.5,
          "xanchor": "center",
          "xref": "paper",
          "y": 1,
          "yanchor": "bottom",
          "yref": "paper"
         },
         {
          "font": {},
          "showarrow": false,
          "text": "8",
          "x": 0.7040000000000002,
          "xanchor": "center",
          "xref": "paper",
          "y": 1,
          "yanchor": "bottom",
          "yref": "paper"
         },
         {
          "font": {},
          "showarrow": false,
          "text": "9",
          "x": 0.908,
          "xanchor": "center",
          "xref": "paper",
          "y": 1,
          "yanchor": "bottom",
          "yref": "paper"
         }
        ],
        "font": {
         "color": "#000000",
         "family": "Old Standard TT",
         "size": 20
        },
        "legend": {
         "title": {
          "text": "trt"
         },
         "tracegroupgap": 0
        },
        "margin": {
         "t": 60
        },
        "plot_bgcolor": "lavender",
        "template": {
         "data": {
          "bar": [
           {
            "error_x": {
             "color": "#2a3f5f"
            },
            "error_y": {
             "color": "#2a3f5f"
            },
            "marker": {
             "line": {
              "color": "#E5ECF6",
              "width": 0.5
             },
             "pattern": {
              "fillmode": "overlay",
              "size": 10,
              "solidity": 0.2
             }
            },
            "type": "bar"
           }
          ],
          "barpolar": [
           {
            "marker": {
             "line": {
              "color": "#E5ECF6",
              "width": 0.5
             },
             "pattern": {
              "fillmode": "overlay",
              "size": 10,
              "solidity": 0.2
             }
            },
            "type": "barpolar"
           }
          ],
          "carpet": [
           {
            "aaxis": {
             "endlinecolor": "#2a3f5f",
             "gridcolor": "white",
             "linecolor": "white",
             "minorgridcolor": "white",
             "startlinecolor": "#2a3f5f"
            },
            "baxis": {
             "endlinecolor": "#2a3f5f",
             "gridcolor": "white",
             "linecolor": "white",
             "minorgridcolor": "white",
             "startlinecolor": "#2a3f5f"
            },
            "type": "carpet"
           }
          ],
          "choropleth": [
           {
            "colorbar": {
             "outlinewidth": 0,
             "ticks": ""
            },
            "type": "choropleth"
           }
          ],
          "contour": [
           {
            "colorbar": {
             "outlinewidth": 0,
             "ticks": ""
            },
            "colorscale": [
             [
              0,
              "#0d0887"
             ],
             [
              0.1111111111111111,
              "#46039f"
             ],
             [
              0.2222222222222222,
              "#7201a8"
             ],
             [
              0.3333333333333333,
              "#9c179e"
             ],
             [
              0.4444444444444444,
              "#bd3786"
             ],
             [
              0.5555555555555556,
              "#d8576b"
             ],
             [
              0.6666666666666666,
              "#ed7953"
             ],
             [
              0.7777777777777778,
              "#fb9f3a"
             ],
             [
              0.8888888888888888,
              "#fdca26"
             ],
             [
              1,
              "#f0f921"
             ]
            ],
            "type": "contour"
           }
          ],
          "contourcarpet": [
           {
            "colorbar": {
             "outlinewidth": 0,
             "ticks": ""
            },
            "type": "contourcarpet"
           }
          ],
          "heatmap": [
           {
            "colorbar": {
             "outlinewidth": 0,
             "ticks": ""
            },
            "colorscale": [
             [
              0,
              "#0d0887"
             ],
             [
              0.1111111111111111,
              "#46039f"
             ],
             [
              0.2222222222222222,
              "#7201a8"
             ],
             [
              0.3333333333333333,
              "#9c179e"
             ],
             [
              0.4444444444444444,
              "#bd3786"
             ],
             [
              0.5555555555555556,
              "#d8576b"
             ],
             [
              0.6666666666666666,
              "#ed7953"
             ],
             [
              0.7777777777777778,
              "#fb9f3a"
             ],
             [
              0.8888888888888888,
              "#fdca26"
             ],
             [
              1,
              "#f0f921"
             ]
            ],
            "type": "heatmap"
           }
          ],
          "heatmapgl": [
           {
            "colorbar": {
             "outlinewidth": 0,
             "ticks": ""
            },
            "colorscale": [
             [
              0,
              "#0d0887"
             ],
             [
              0.1111111111111111,
              "#46039f"
             ],
             [
              0.2222222222222222,
              "#7201a8"
             ],
             [
              0.3333333333333333,
              "#9c179e"
             ],
             [
              0.4444444444444444,
              "#bd3786"
             ],
             [
              0.5555555555555556,
              "#d8576b"
             ],
             [
              0.6666666666666666,
              "#ed7953"
             ],
             [
              0.7777777777777778,
              "#fb9f3a"
             ],
             [
              0.8888888888888888,
              "#fdca26"
             ],
             [
              1,
              "#f0f921"
             ]
            ],
            "type": "heatmapgl"
           }
          ],
          "histogram": [
           {
            "marker": {
             "pattern": {
              "fillmode": "overlay",
              "size": 10,
              "solidity": 0.2
             }
            },
            "type": "histogram"
           }
          ],
          "histogram2d": [
           {
            "colorbar": {
             "outlinewidth": 0,
             "ticks": ""
            },
            "colorscale": [
             [
              0,
              "#0d0887"
             ],
             [
              0.1111111111111111,
              "#46039f"
             ],
             [
              0.2222222222222222,
              "#7201a8"
             ],
             [
              0.3333333333333333,
              "#9c179e"
             ],
             [
              0.4444444444444444,
              "#bd3786"
             ],
             [
              0.5555555555555556,
              "#d8576b"
             ],
             [
              0.6666666666666666,
              "#ed7953"
             ],
             [
              0.7777777777777778,
              "#fb9f3a"
             ],
             [
              0.8888888888888888,
              "#fdca26"
             ],
             [
              1,
              "#f0f921"
             ]
            ],
            "type": "histogram2d"
           }
          ],
          "histogram2dcontour": [
           {
            "colorbar": {
             "outlinewidth": 0,
             "ticks": ""
            },
            "colorscale": [
             [
              0,
              "#0d0887"
             ],
             [
              0.1111111111111111,
              "#46039f"
             ],
             [
              0.2222222222222222,
              "#7201a8"
             ],
             [
              0.3333333333333333,
              "#9c179e"
             ],
             [
              0.4444444444444444,
              "#bd3786"
             ],
             [
              0.5555555555555556,
              "#d8576b"
             ],
             [
              0.6666666666666666,
              "#ed7953"
             ],
             [
              0.7777777777777778,
              "#fb9f3a"
             ],
             [
              0.8888888888888888,
              "#fdca26"
             ],
             [
              1,
              "#f0f921"
             ]
            ],
            "type": "histogram2dcontour"
           }
          ],
          "mesh3d": [
           {
            "colorbar": {
             "outlinewidth": 0,
             "ticks": ""
            },
            "type": "mesh3d"
           }
          ],
          "parcoords": [
           {
            "line": {
             "colorbar": {
              "outlinewidth": 0,
              "ticks": ""
             }
            },
            "type": "parcoords"
           }
          ],
          "pie": [
           {
            "automargin": true,
            "type": "pie"
           }
          ],
          "scatter": [
           {
            "marker": {
             "colorbar": {
              "outlinewidth": 0,
              "ticks": ""
             }
            },
            "type": "scatter"
           }
          ],
          "scatter3d": [
           {
            "line": {
             "colorbar": {
              "outlinewidth": 0,
              "ticks": ""
             }
            },
            "marker": {
             "colorbar": {
              "outlinewidth": 0,
              "ticks": ""
             }
            },
            "type": "scatter3d"
           }
          ],
          "scattercarpet": [
           {
            "marker": {
             "colorbar": {
              "outlinewidth": 0,
              "ticks": ""
             }
            },
            "type": "scattercarpet"
           }
          ],
          "scattergeo": [
           {
            "marker": {
             "colorbar": {
              "outlinewidth": 0,
              "ticks": ""
             }
            },
            "type": "scattergeo"
           }
          ],
          "scattergl": [
           {
            "marker": {
             "colorbar": {
              "outlinewidth": 0,
              "ticks": ""
             }
            },
            "type": "scattergl"
           }
          ],
          "scattermapbox": [
           {
            "marker": {
             "colorbar": {
              "outlinewidth": 0,
              "ticks": ""
             }
            },
            "type": "scattermapbox"
           }
          ],
          "scatterpolar": [
           {
            "marker": {
             "colorbar": {
              "outlinewidth": 0,
              "ticks": ""
             }
            },
            "type": "scatterpolar"
           }
          ],
          "scatterpolargl": [
           {
            "marker": {
             "colorbar": {
              "outlinewidth": 0,
              "ticks": ""
             }
            },
            "type": "scatterpolargl"
           }
          ],
          "scatterternary": [
           {
            "marker": {
             "colorbar": {
              "outlinewidth": 0,
              "ticks": ""
             }
            },
            "type": "scatterternary"
           }
          ],
          "surface": [
           {
            "colorbar": {
             "outlinewidth": 0,
             "ticks": ""
            },
            "colorscale": [
             [
              0,
              "#0d0887"
             ],
             [
              0.1111111111111111,
              "#46039f"
             ],
             [
              0.2222222222222222,
              "#7201a8"
             ],
             [
              0.3333333333333333,
              "#9c179e"
             ],
             [
              0.4444444444444444,
              "#bd3786"
             ],
             [
              0.5555555555555556,
              "#d8576b"
             ],
             [
              0.6666666666666666,
              "#ed7953"
             ],
             [
              0.7777777777777778,
              "#fb9f3a"
             ],
             [
              0.8888888888888888,
              "#fdca26"
             ],
             [
              1,
              "#f0f921"
             ]
            ],
            "type": "surface"
           }
          ],
          "table": [
           {
            "cells": {
             "fill": {
              "color": "#EBF0F8"
             },
             "line": {
              "color": "white"
             }
            },
            "header": {
             "fill": {
              "color": "#C8D4E3"
             },
             "line": {
              "color": "white"
             }
            },
            "type": "table"
           }
          ]
         },
         "layout": {
          "annotationdefaults": {
           "arrowcolor": "#2a3f5f",
           "arrowhead": 0,
           "arrowwidth": 1
          },
          "autotypenumbers": "strict",
          "coloraxis": {
           "colorbar": {
            "outlinewidth": 0,
            "ticks": ""
           }
          },
          "colorscale": {
           "diverging": [
            [
             0,
             "#8e0152"
            ],
            [
             0.1,
             "#c51b7d"
            ],
            [
             0.2,
             "#de77ae"
            ],
            [
             0.3,
             "#f1b6da"
            ],
            [
             0.4,
             "#fde0ef"
            ],
            [
             0.5,
             "#f7f7f7"
            ],
            [
             0.6,
             "#e6f5d0"
            ],
            [
             0.7,
             "#b8e186"
            ],
            [
             0.8,
             "#7fbc41"
            ],
            [
             0.9,
             "#4d9221"
            ],
            [
             1,
             "#276419"
            ]
           ],
           "sequential": [
            [
             0,
             "#0d0887"
            ],
            [
             0.1111111111111111,
             "#46039f"
            ],
            [
             0.2222222222222222,
             "#7201a8"
            ],
            [
             0.3333333333333333,
             "#9c179e"
            ],
            [
             0.4444444444444444,
             "#bd3786"
            ],
            [
             0.5555555555555556,
             "#d8576b"
            ],
            [
             0.6666666666666666,
             "#ed7953"
            ],
            [
             0.7777777777777778,
             "#fb9f3a"
            ],
            [
             0.8888888888888888,
             "#fdca26"
            ],
            [
             1,
             "#f0f921"
            ]
           ],
           "sequentialminus": [
            [
             0,
             "#0d0887"
            ],
            [
             0.1111111111111111,
             "#46039f"
            ],
            [
             0.2222222222222222,
             "#7201a8"
            ],
            [
             0.3333333333333333,
             "#9c179e"
            ],
            [
             0.4444444444444444,
             "#bd3786"
            ],
            [
             0.5555555555555556,
             "#d8576b"
            ],
            [
             0.6666666666666666,
             "#ed7953"
            ],
            [
             0.7777777777777778,
             "#fb9f3a"
            ],
            [
             0.8888888888888888,
             "#fdca26"
            ],
            [
             1,
             "#f0f921"
            ]
           ]
          },
          "colorway": [
           "#636efa",
           "#EF553B",
           "#00cc96",
           "#ab63fa",
           "#FFA15A",
           "#19d3f3",
           "#FF6692",
           "#B6E880",
           "#FF97FF",
           "#FECB52"
          ],
          "font": {
           "color": "#2a3f5f"
          },
          "geo": {
           "bgcolor": "white",
           "lakecolor": "white",
           "landcolor": "#E5ECF6",
           "showlakes": true,
           "showland": true,
           "subunitcolor": "white"
          },
          "hoverlabel": {
           "align": "left"
          },
          "hovermode": "closest",
          "mapbox": {
           "style": "light"
          },
          "paper_bgcolor": "white",
          "plot_bgcolor": "#E5ECF6",
          "polar": {
           "angularaxis": {
            "gridcolor": "white",
            "linecolor": "white",
            "ticks": ""
           },
           "bgcolor": "#E5ECF6",
           "radialaxis": {
            "gridcolor": "white",
            "linecolor": "white",
            "ticks": ""
           }
          },
          "scene": {
           "xaxis": {
            "backgroundcolor": "#E5ECF6",
            "gridcolor": "white",
            "gridwidth": 2,
            "linecolor": "white",
            "showbackground": true,
            "ticks": "",
            "zerolinecolor": "white"
           },
           "yaxis": {
            "backgroundcolor": "#E5ECF6",
            "gridcolor": "white",
            "gridwidth": 2,
            "linecolor": "white",
            "showbackground": true,
            "ticks": "",
            "zerolinecolor": "white"
           },
           "zaxis": {
            "backgroundcolor": "#E5ECF6",
            "gridcolor": "white",
            "gridwidth": 2,
            "linecolor": "white",
            "showbackground": true,
            "ticks": "",
            "zerolinecolor": "white"
           }
          },
          "shapedefaults": {
           "line": {
            "color": "#2a3f5f"
           }
          },
          "ternary": {
           "aaxis": {
            "gridcolor": "white",
            "linecolor": "white",
            "ticks": ""
           },
           "baxis": {
            "gridcolor": "white",
            "linecolor": "white",
            "ticks": ""
           },
           "bgcolor": "#E5ECF6",
           "caxis": {
            "gridcolor": "white",
            "linecolor": "white",
            "ticks": ""
           }
          },
          "title": {
           "x": 0.05
          },
          "xaxis": {
           "automargin": true,
           "gridcolor": "white",
           "linecolor": "white",
           "ticks": "",
           "title": {
            "standoff": 15
           },
           "zerolinecolor": "white",
           "zerolinewidth": 2
          },
          "yaxis": {
           "automargin": true,
           "gridcolor": "white",
           "linecolor": "white",
           "ticks": "",
           "title": {
            "standoff": 15
           },
           "zerolinecolor": "white",
           "zerolinewidth": 2
          }
         }
        },
        "title": {
         "text": "Wheat"
        },
        "xaxis": {
         "anchor": "y",
         "domain": [
          0,
          0.18400000000000002
         ],
         "title": {
          "text": "Days after sowing"
         }
        },
        "xaxis2": {
         "anchor": "y2",
         "domain": [
          0.20400000000000001,
          0.388
         ],
         "matches": "x",
         "title": {
          "text": ""
         }
        },
        "xaxis3": {
         "anchor": "y3",
         "domain": [
          0.40800000000000003,
          0.5920000000000001
         ],
         "matches": "x",
         "title": {
          "text": ""
         }
        },
        "xaxis4": {
         "anchor": "y4",
         "domain": [
          0.6120000000000001,
          0.7960000000000002
         ],
         "matches": "x",
         "title": {
          "text": ""
         }
        },
        "xaxis5": {
         "anchor": "y5",
         "domain": [
          0.8160000000000001,
          1
         ],
         "matches": "x",
         "title": {
          "text": ""
         }
        },
        "yaxis": {
         "anchor": "x",
         "domain": [
          0,
          1
         ],
         "title": {
          "text": "NDVI"
         }
        },
        "yaxis2": {
         "anchor": "x2",
         "domain": [
          0,
          1
         ],
         "matches": "y",
         "showticklabels": false
        },
        "yaxis3": {
         "anchor": "x3",
         "domain": [
          0,
          1
         ],
         "matches": "y",
         "showticklabels": false
        },
        "yaxis4": {
         "anchor": "x4",
         "domain": [
          0,
          1
         ],
         "matches": "y",
         "showticklabels": false
        },
        "yaxis5": {
         "anchor": "x5",
         "domain": [
          0,
          1
         ],
         "matches": "y",
         "showticklabels": false
        }
       }
      },
      "text/html": [
       "<div>                            <div id=\"8cd17caf-1273-4e6b-9a95-5b220a2257b5\" class=\"plotly-graph-div\" style=\"height:525px; width:100%;\"></div>            <script type=\"text/javascript\">                require([\"plotly\"], function(Plotly) {                    window.PLOTLYENV=window.PLOTLYENV || {};                                    if (document.getElementById(\"8cd17caf-1273-4e6b-9a95-5b220a2257b5\")) {                    Plotly.newPlot(                        \"8cd17caf-1273-4e6b-9a95-5b220a2257b5\",                        [{\"hovertemplate\":\"trt=N-Rich strip<br>plot=10<br>days after sowing=%{x}<br>mean=%{y}<extra></extra>\",\"legendgroup\":\"N-Rich strip\",\"line\":{\"color\":\"#636efa\",\"dash\":\"solid\"},\"marker\":{\"symbol\":\"circle\"},\"mode\":\"lines\",\"name\":\"N-Rich strip\",\"orientation\":\"v\",\"showlegend\":true,\"x\":[7,27,37,47,67,77],\"xaxis\":\"x\",\"y\":[0.10678827135186446,0.5501210062127364,0.7835693861308851,0.8825772937975431,0.9381894563373766,0.9392532549406353],\"yaxis\":\"y\",\"type\":\"scatter\"},{\"hovertemplate\":\"trt=N-Rich strip<br>plot=11<br>days after sowing=%{x}<br>mean=%{y}<extra></extra>\",\"legendgroup\":\"N-Rich strip\",\"line\":{\"color\":\"#636efa\",\"dash\":\"solid\"},\"marker\":{\"symbol\":\"circle\"},\"mode\":\"lines\",\"name\":\"N-Rich strip\",\"orientation\":\"v\",\"showlegend\":false,\"x\":[14,34,44,54,74,84],\"xaxis\":\"x2\",\"y\":[0.22570518737143658,0.6322214654151429,0.7599786799004737,0.8448966817652925,0.9224458248057263,0.9224458248057263],\"yaxis\":\"y2\",\"type\":\"scatter\"},{\"hovertemplate\":\"trt=N-Rich strip<br>plot=7<br>days after sowing=%{x}<br>mean=%{y}<extra></extra>\",\"legendgroup\":\"N-Rich strip\",\"line\":{\"color\":\"#636efa\",\"dash\":\"solid\"},\"marker\":{\"symbol\":\"circle\"},\"mode\":\"lines\",\"name\":\"N-Rich strip\",\"orientation\":\"v\",\"showlegend\":false,\"x\":[14,34,44,54,74,84],\"xaxis\":\"x3\",\"y\":[0.23139896908321897,0.759235278980152,0.8514042416134396,0.9059788471943623,0.9267586372994088,0.9267586372994088],\"yaxis\":\"y3\",\"type\":\"scatter\"},{\"hovertemplate\":\"trt=N-Rich strip<br>plot=8<br>days after sowing=%{x}<br>mean=%{y}<extra></extra>\",\"legendgroup\":\"N-Rich strip\",\"line\":{\"color\":\"#636efa\",\"dash\":\"solid\"},\"marker\":{\"symbol\":\"circle\"},\"mode\":\"lines\",\"name\":\"N-Rich strip\",\"orientation\":\"v\",\"showlegend\":false,\"x\":[-4,16,26,36,56,66],\"xaxis\":\"x4\",\"y\":[0.1360362424688824,0.17756888826014633,0.4567154059975834,0.7093297667422537,0.8504279185149629,0.8504279185149629],\"yaxis\":\"y4\",\"type\":\"scatter\"},{\"hovertemplate\":\"trt=N-Rich strip<br>plot=9<br>days after sowing=%{x}<br>mean=%{y}<extra></extra>\",\"legendgroup\":\"N-Rich strip\",\"line\":{\"color\":\"#636efa\",\"dash\":\"solid\"},\"marker\":{\"symbol\":\"circle\"},\"mode\":\"lines\",\"name\":\"N-Rich strip\",\"orientation\":\"v\",\"showlegend\":false,\"x\":[12,32,42,52,72,82],\"xaxis\":\"x5\",\"y\":[0.13866940566471644,0.7172884941101074,0.8982584817068917,0.9349738529750279,0.9408815247671944,0.9431601251874652],\"yaxis\":\"y5\",\"type\":\"scatter\"},{\"hovertemplate\":\"trt=Farmer Practice N<br>plot=10<br>days after sowing=%{x}<br>mean=%{y}<extra></extra>\",\"legendgroup\":\"Farmer Practice N\",\"line\":{\"color\":\"#EF553B\",\"dash\":\"solid\"},\"marker\":{\"symbol\":\"circle\"},\"mode\":\"lines\",\"name\":\"Farmer Practice N\",\"orientation\":\"v\",\"showlegend\":true,\"x\":[7,27,37,47,67,77],\"xaxis\":\"x\",\"y\":[0.10947137312455611,0.5462136008522728,0.7895387129350142,0.8854986017400568,0.9347803289240056,0.9369825883345171],\"yaxis\":\"y\",\"type\":\"scatter\"},{\"hovertemplate\":\"trt=Farmer Practice N<br>plot=9<br>days after sowing=%{x}<br>mean=%{y}<extra></extra>\",\"legendgroup\":\"Farmer Practice N\",\"line\":{\"color\":\"#EF553B\",\"dash\":\"solid\"},\"marker\":{\"symbol\":\"circle\"},\"mode\":\"lines\",\"name\":\"Farmer Practice N\",\"orientation\":\"v\",\"showlegend\":false,\"x\":[12,32,42,52,72,82],\"xaxis\":\"x5\",\"y\":[0.14882179761024975,0.7073559853100869,0.8864995890142374,0.9289002878785594,0.9385520905601472,0.9412343971517555],\"yaxis\":\"y5\",\"type\":\"scatter\"},{\"hovertemplate\":\"trt=Farmer Practice S<br>plot=10<br>days after sowing=%{x}<br>mean=%{y}<extra></extra>\",\"legendgroup\":\"Farmer Practice S\",\"line\":{\"color\":\"#00cc96\",\"dash\":\"solid\"},\"marker\":{\"symbol\":\"circle\"},\"mode\":\"lines\",\"name\":\"Farmer Practice S\",\"orientation\":\"v\",\"showlegend\":true,\"x\":[7,27,37,47,67,77],\"xaxis\":\"x\",\"y\":[0.11128864790263929,0.5827631699411493,0.8034456152664987,0.8898378673352694,0.93914794921875,0.9398080926192435],\"yaxis\":\"y\",\"type\":\"scatter\"},{\"hovertemplate\":\"trt=Farmer Practice S<br>plot=9<br>days after sowing=%{x}<br>mean=%{y}<extra></extra>\",\"legendgroup\":\"Farmer Practice S\",\"line\":{\"color\":\"#00cc96\",\"dash\":\"solid\"},\"marker\":{\"symbol\":\"circle\"},\"mode\":\"lines\",\"name\":\"Farmer Practice S\",\"orientation\":\"v\",\"showlegend\":false,\"x\":[12,32,42,52,72,82],\"xaxis\":\"x5\",\"y\":[0.13058794753451944,0.6997198328583188,0.8792385457761245,0.9242653211589836,0.9347384928708996,0.9373135576191289],\"yaxis\":\"y5\",\"type\":\"scatter\"},{\"hovertemplate\":\"trt=Farmer Practice E<br>plot=11<br>days after sowing=%{x}<br>mean=%{y}<extra></extra>\",\"legendgroup\":\"Farmer Practice E\",\"line\":{\"color\":\"#ab63fa\",\"dash\":\"solid\"},\"marker\":{\"symbol\":\"circle\"},\"mode\":\"lines\",\"name\":\"Farmer Practice E\",\"orientation\":\"v\",\"showlegend\":true,\"x\":[14,34,44,54,74,84],\"xaxis\":\"x2\",\"y\":[0.23340123632679816,0.6178864188816237,0.7482749275539232,0.8374755693518597,0.9254672838293988,0.9254672838293988],\"yaxis\":\"y2\",\"type\":\"scatter\"},{\"hovertemplate\":\"trt=Farmer Practice E<br>plot=7<br>days after sowing=%{x}<br>mean=%{y}<extra></extra>\",\"legendgroup\":\"Farmer Practice E\",\"line\":{\"color\":\"#ab63fa\",\"dash\":\"solid\"},\"marker\":{\"symbol\":\"circle\"},\"mode\":\"lines\",\"name\":\"Farmer Practice E\",\"orientation\":\"v\",\"showlegend\":false,\"x\":[14,34,44,54,74,84],\"xaxis\":\"x3\",\"y\":[0.23894951653587443,0.7496851352298206,0.8542549441213565,0.902541252102018,0.9263793397911996,0.9263793397911996],\"yaxis\":\"y3\",\"type\":\"scatter\"},{\"hovertemplate\":\"trt=Farmer Practice E<br>plot=8<br>days after sowing=%{x}<br>mean=%{y}<extra></extra>\",\"legendgroup\":\"Farmer Practice E\",\"line\":{\"color\":\"#ab63fa\",\"dash\":\"solid\"},\"marker\":{\"symbol\":\"circle\"},\"mode\":\"lines\",\"name\":\"Farmer Practice E\",\"orientation\":\"v\",\"showlegend\":false,\"x\":[-4,16,26,36,56,66],\"xaxis\":\"x4\",\"y\":[0.14348256509451685,0.19251131603055008,0.5098236847929019,0.7693380122128212,0.8848318067306901,0.8848318067306901],\"yaxis\":\"y4\",\"type\":\"scatter\"},{\"hovertemplate\":\"trt=Farmer Practice W<br>plot=11<br>days after sowing=%{x}<br>mean=%{y}<extra></extra>\",\"legendgroup\":\"Farmer Practice W\",\"line\":{\"color\":\"#FFA15A\",\"dash\":\"solid\"},\"marker\":{\"symbol\":\"circle\"},\"mode\":\"lines\",\"name\":\"Farmer Practice W\",\"orientation\":\"v\",\"showlegend\":true,\"x\":[14,34,44,54,74,84],\"xaxis\":\"x2\",\"y\":[0.27827832522808305,0.6125382801030306,0.7254006302596738,0.802431349786336,0.8614577735030411,0.8614577735030411],\"yaxis\":\"y2\",\"type\":\"scatter\"},{\"hovertemplate\":\"trt=Farmer Practice W<br>plot=7<br>days after sowing=%{x}<br>mean=%{y}<extra></extra>\",\"legendgroup\":\"Farmer Practice W\",\"line\":{\"color\":\"#FFA15A\",\"dash\":\"solid\"},\"marker\":{\"symbol\":\"circle\"},\"mode\":\"lines\",\"name\":\"Farmer Practice W\",\"orientation\":\"v\",\"showlegend\":false,\"x\":[14,34,44,54,74,84],\"xaxis\":\"x3\",\"y\":[0.22470917213456562,0.7388596212682121,0.8410101331656795,0.9017029473464733,0.9243453281377655,0.9243453281377655],\"yaxis\":\"y3\",\"type\":\"scatter\"},{\"hovertemplate\":\"trt=Farmer Practice W<br>plot=8<br>days after sowing=%{x}<br>mean=%{y}<extra></extra>\",\"legendgroup\":\"Farmer Practice W\",\"line\":{\"color\":\"#FFA15A\",\"dash\":\"solid\"},\"marker\":{\"symbol\":\"circle\"},\"mode\":\"lines\",\"name\":\"Farmer Practice W\",\"orientation\":\"v\",\"showlegend\":false,\"x\":[-4,16,26,36,56,66],\"xaxis\":\"x4\",\"y\":[0.13247101811876885,0.18339964020348107,0.4818479318081853,0.7379340205051944,0.8871453415612433,0.8871453415612433],\"yaxis\":\"y4\",\"type\":\"scatter\"}],                        {\"template\":{\"data\":{\"bar\":[{\"error_x\":{\"color\":\"#2a3f5f\"},\"error_y\":{\"color\":\"#2a3f5f\"},\"marker\":{\"line\":{\"color\":\"#E5ECF6\",\"width\":0.5},\"pattern\":{\"fillmode\":\"overlay\",\"size\":10,\"solidity\":0.2}},\"type\":\"bar\"}],\"barpolar\":[{\"marker\":{\"line\":{\"color\":\"#E5ECF6\",\"width\":0.5},\"pattern\":{\"fillmode\":\"overlay\",\"size\":10,\"solidity\":0.2}},\"type\":\"barpolar\"}],\"carpet\":[{\"aaxis\":{\"endlinecolor\":\"#2a3f5f\",\"gridcolor\":\"white\",\"linecolor\":\"white\",\"minorgridcolor\":\"white\",\"startlinecolor\":\"#2a3f5f\"},\"baxis\":{\"endlinecolor\":\"#2a3f5f\",\"gridcolor\":\"white\",\"linecolor\":\"white\",\"minorgridcolor\":\"white\",\"startlinecolor\":\"#2a3f5f\"},\"type\":\"carpet\"}],\"choropleth\":[{\"colorbar\":{\"outlinewidth\":0,\"ticks\":\"\"},\"type\":\"choropleth\"}],\"contour\":[{\"colorbar\":{\"outlinewidth\":0,\"ticks\":\"\"},\"colorscale\":[[0.0,\"#0d0887\"],[0.1111111111111111,\"#46039f\"],[0.2222222222222222,\"#7201a8\"],[0.3333333333333333,\"#9c179e\"],[0.4444444444444444,\"#bd3786\"],[0.5555555555555556,\"#d8576b\"],[0.6666666666666666,\"#ed7953\"],[0.7777777777777778,\"#fb9f3a\"],[0.8888888888888888,\"#fdca26\"],[1.0,\"#f0f921\"]],\"type\":\"contour\"}],\"contourcarpet\":[{\"colorbar\":{\"outlinewidth\":0,\"ticks\":\"\"},\"type\":\"contourcarpet\"}],\"heatmap\":[{\"colorbar\":{\"outlinewidth\":0,\"ticks\":\"\"},\"colorscale\":[[0.0,\"#0d0887\"],[0.1111111111111111,\"#46039f\"],[0.2222222222222222,\"#7201a8\"],[0.3333333333333333,\"#9c179e\"],[0.4444444444444444,\"#bd3786\"],[0.5555555555555556,\"#d8576b\"],[0.6666666666666666,\"#ed7953\"],[0.7777777777777778,\"#fb9f3a\"],[0.8888888888888888,\"#fdca26\"],[1.0,\"#f0f921\"]],\"type\":\"heatmap\"}],\"heatmapgl\":[{\"colorbar\":{\"outlinewidth\":0,\"ticks\":\"\"},\"colorscale\":[[0.0,\"#0d0887\"],[0.1111111111111111,\"#46039f\"],[0.2222222222222222,\"#7201a8\"],[0.3333333333333333,\"#9c179e\"],[0.4444444444444444,\"#bd3786\"],[0.5555555555555556,\"#d8576b\"],[0.6666666666666666,\"#ed7953\"],[0.7777777777777778,\"#fb9f3a\"],[0.8888888888888888,\"#fdca26\"],[1.0,\"#f0f921\"]],\"type\":\"heatmapgl\"}],\"histogram\":[{\"marker\":{\"pattern\":{\"fillmode\":\"overlay\",\"size\":10,\"solidity\":0.2}},\"type\":\"histogram\"}],\"histogram2d\":[{\"colorbar\":{\"outlinewidth\":0,\"ticks\":\"\"},\"colorscale\":[[0.0,\"#0d0887\"],[0.1111111111111111,\"#46039f\"],[0.2222222222222222,\"#7201a8\"],[0.3333333333333333,\"#9c179e\"],[0.4444444444444444,\"#bd3786\"],[0.5555555555555556,\"#d8576b\"],[0.6666666666666666,\"#ed7953\"],[0.7777777777777778,\"#fb9f3a\"],[0.8888888888888888,\"#fdca26\"],[1.0,\"#f0f921\"]],\"type\":\"histogram2d\"}],\"histogram2dcontour\":[{\"colorbar\":{\"outlinewidth\":0,\"ticks\":\"\"},\"colorscale\":[[0.0,\"#0d0887\"],[0.1111111111111111,\"#46039f\"],[0.2222222222222222,\"#7201a8\"],[0.3333333333333333,\"#9c179e\"],[0.4444444444444444,\"#bd3786\"],[0.5555555555555556,\"#d8576b\"],[0.6666666666666666,\"#ed7953\"],[0.7777777777777778,\"#fb9f3a\"],[0.8888888888888888,\"#fdca26\"],[1.0,\"#f0f921\"]],\"type\":\"histogram2dcontour\"}],\"mesh3d\":[{\"colorbar\":{\"outlinewidth\":0,\"ticks\":\"\"},\"type\":\"mesh3d\"}],\"parcoords\":[{\"line\":{\"colorbar\":{\"outlinewidth\":0,\"ticks\":\"\"}},\"type\":\"parcoords\"}],\"pie\":[{\"automargin\":true,\"type\":\"pie\"}],\"scatter\":[{\"marker\":{\"colorbar\":{\"outlinewidth\":0,\"ticks\":\"\"}},\"type\":\"scatter\"}],\"scatter3d\":[{\"line\":{\"colorbar\":{\"outlinewidth\":0,\"ticks\":\"\"}},\"marker\":{\"colorbar\":{\"outlinewidth\":0,\"ticks\":\"\"}},\"type\":\"scatter3d\"}],\"scattercarpet\":[{\"marker\":{\"colorbar\":{\"outlinewidth\":0,\"ticks\":\"\"}},\"type\":\"scattercarpet\"}],\"scattergeo\":[{\"marker\":{\"colorbar\":{\"outlinewidth\":0,\"ticks\":\"\"}},\"type\":\"scattergeo\"}],\"scattergl\":[{\"marker\":{\"colorbar\":{\"outlinewidth\":0,\"ticks\":\"\"}},\"type\":\"scattergl\"}],\"scattermapbox\":[{\"marker\":{\"colorbar\":{\"outlinewidth\":0,\"ticks\":\"\"}},\"type\":\"scattermapbox\"}],\"scatterpolar\":[{\"marker\":{\"colorbar\":{\"outlinewidth\":0,\"ticks\":\"\"}},\"type\":\"scatterpolar\"}],\"scatterpolargl\":[{\"marker\":{\"colorbar\":{\"outlinewidth\":0,\"ticks\":\"\"}},\"type\":\"scatterpolargl\"}],\"scatterternary\":[{\"marker\":{\"colorbar\":{\"outlinewidth\":0,\"ticks\":\"\"}},\"type\":\"scatterternary\"}],\"surface\":[{\"colorbar\":{\"outlinewidth\":0,\"ticks\":\"\"},\"colorscale\":[[0.0,\"#0d0887\"],[0.1111111111111111,\"#46039f\"],[0.2222222222222222,\"#7201a8\"],[0.3333333333333333,\"#9c179e\"],[0.4444444444444444,\"#bd3786\"],[0.5555555555555556,\"#d8576b\"],[0.6666666666666666,\"#ed7953\"],[0.7777777777777778,\"#fb9f3a\"],[0.8888888888888888,\"#fdca26\"],[1.0,\"#f0f921\"]],\"type\":\"surface\"}],\"table\":[{\"cells\":{\"fill\":{\"color\":\"#EBF0F8\"},\"line\":{\"color\":\"white\"}},\"header\":{\"fill\":{\"color\":\"#C8D4E3\"},\"line\":{\"color\":\"white\"}},\"type\":\"table\"}]},\"layout\":{\"annotationdefaults\":{\"arrowcolor\":\"#2a3f5f\",\"arrowhead\":0,\"arrowwidth\":1},\"autotypenumbers\":\"strict\",\"coloraxis\":{\"colorbar\":{\"outlinewidth\":0,\"ticks\":\"\"}},\"colorscale\":{\"diverging\":[[0,\"#8e0152\"],[0.1,\"#c51b7d\"],[0.2,\"#de77ae\"],[0.3,\"#f1b6da\"],[0.4,\"#fde0ef\"],[0.5,\"#f7f7f7\"],[0.6,\"#e6f5d0\"],[0.7,\"#b8e186\"],[0.8,\"#7fbc41\"],[0.9,\"#4d9221\"],[1,\"#276419\"]],\"sequential\":[[0.0,\"#0d0887\"],[0.1111111111111111,\"#46039f\"],[0.2222222222222222,\"#7201a8\"],[0.3333333333333333,\"#9c179e\"],[0.4444444444444444,\"#bd3786\"],[0.5555555555555556,\"#d8576b\"],[0.6666666666666666,\"#ed7953\"],[0.7777777777777778,\"#fb9f3a\"],[0.8888888888888888,\"#fdca26\"],[1.0,\"#f0f921\"]],\"sequentialminus\":[[0.0,\"#0d0887\"],[0.1111111111111111,\"#46039f\"],[0.2222222222222222,\"#7201a8\"],[0.3333333333333333,\"#9c179e\"],[0.4444444444444444,\"#bd3786\"],[0.5555555555555556,\"#d8576b\"],[0.6666666666666666,\"#ed7953\"],[0.7777777777777778,\"#fb9f3a\"],[0.8888888888888888,\"#fdca26\"],[1.0,\"#f0f921\"]]},\"colorway\":[\"#636efa\",\"#EF553B\",\"#00cc96\",\"#ab63fa\",\"#FFA15A\",\"#19d3f3\",\"#FF6692\",\"#B6E880\",\"#FF97FF\",\"#FECB52\"],\"font\":{\"color\":\"#2a3f5f\"},\"geo\":{\"bgcolor\":\"white\",\"lakecolor\":\"white\",\"landcolor\":\"#E5ECF6\",\"showlakes\":true,\"showland\":true,\"subunitcolor\":\"white\"},\"hoverlabel\":{\"align\":\"left\"},\"hovermode\":\"closest\",\"mapbox\":{\"style\":\"light\"},\"paper_bgcolor\":\"white\",\"plot_bgcolor\":\"#E5ECF6\",\"polar\":{\"angularaxis\":{\"gridcolor\":\"white\",\"linecolor\":\"white\",\"ticks\":\"\"},\"bgcolor\":\"#E5ECF6\",\"radialaxis\":{\"gridcolor\":\"white\",\"linecolor\":\"white\",\"ticks\":\"\"}},\"scene\":{\"xaxis\":{\"backgroundcolor\":\"#E5ECF6\",\"gridcolor\":\"white\",\"gridwidth\":2,\"linecolor\":\"white\",\"showbackground\":true,\"ticks\":\"\",\"zerolinecolor\":\"white\"},\"yaxis\":{\"backgroundcolor\":\"#E5ECF6\",\"gridcolor\":\"white\",\"gridwidth\":2,\"linecolor\":\"white\",\"showbackground\":true,\"ticks\":\"\",\"zerolinecolor\":\"white\"},\"zaxis\":{\"backgroundcolor\":\"#E5ECF6\",\"gridcolor\":\"white\",\"gridwidth\":2,\"linecolor\":\"white\",\"showbackground\":true,\"ticks\":\"\",\"zerolinecolor\":\"white\"}},\"shapedefaults\":{\"line\":{\"color\":\"#2a3f5f\"}},\"ternary\":{\"aaxis\":{\"gridcolor\":\"white\",\"linecolor\":\"white\",\"ticks\":\"\"},\"baxis\":{\"gridcolor\":\"white\",\"linecolor\":\"white\",\"ticks\":\"\"},\"bgcolor\":\"#E5ECF6\",\"caxis\":{\"gridcolor\":\"white\",\"linecolor\":\"white\",\"ticks\":\"\"}},\"title\":{\"x\":0.05},\"xaxis\":{\"automargin\":true,\"gridcolor\":\"white\",\"linecolor\":\"white\",\"ticks\":\"\",\"title\":{\"standoff\":15},\"zerolinecolor\":\"white\",\"zerolinewidth\":2},\"yaxis\":{\"automargin\":true,\"gridcolor\":\"white\",\"linecolor\":\"white\",\"ticks\":\"\",\"title\":{\"standoff\":15},\"zerolinecolor\":\"white\",\"zerolinewidth\":2}}},\"xaxis\":{\"anchor\":\"y\",\"domain\":[0.0,0.18400000000000002],\"title\":{\"text\":\"Days after sowing\"}},\"yaxis\":{\"anchor\":\"x\",\"domain\":[0.0,1.0],\"title\":{\"text\":\"NDVI\"}},\"xaxis2\":{\"anchor\":\"y2\",\"domain\":[0.20400000000000001,0.388],\"matches\":\"x\",\"title\":{\"text\":\"\"}},\"yaxis2\":{\"anchor\":\"x2\",\"domain\":[0.0,1.0],\"matches\":\"y\",\"showticklabels\":false},\"xaxis3\":{\"anchor\":\"y3\",\"domain\":[0.40800000000000003,0.5920000000000001],\"matches\":\"x\",\"title\":{\"text\":\"\"}},\"yaxis3\":{\"anchor\":\"x3\",\"domain\":[0.0,1.0],\"matches\":\"y\",\"showticklabels\":false},\"xaxis4\":{\"anchor\":\"y4\",\"domain\":[0.6120000000000001,0.7960000000000002],\"matches\":\"x\",\"title\":{\"text\":\"\"}},\"yaxis4\":{\"anchor\":\"x4\",\"domain\":[0.0,1.0],\"matches\":\"y\",\"showticklabels\":false},\"xaxis5\":{\"anchor\":\"y5\",\"domain\":[0.8160000000000001,1.0],\"matches\":\"x\",\"title\":{\"text\":\"\"}},\"yaxis5\":{\"anchor\":\"x5\",\"domain\":[0.0,1.0],\"matches\":\"y\",\"showticklabels\":false},\"annotations\":[{\"font\":{},\"showarrow\":false,\"text\":\"10\",\"x\":0.09200000000000001,\"xanchor\":\"center\",\"xref\":\"paper\",\"y\":1.0,\"yanchor\":\"bottom\",\"yref\":\"paper\"},{\"font\":{},\"showarrow\":false,\"text\":\"11\",\"x\":0.29600000000000004,\"xanchor\":\"center\",\"xref\":\"paper\",\"y\":1.0,\"yanchor\":\"bottom\",\"yref\":\"paper\"},{\"font\":{},\"showarrow\":false,\"text\":\"7\",\"x\":0.5,\"xanchor\":\"center\",\"xref\":\"paper\",\"y\":1.0,\"yanchor\":\"bottom\",\"yref\":\"paper\"},{\"font\":{},\"showarrow\":false,\"text\":\"8\",\"x\":0.7040000000000002,\"xanchor\":\"center\",\"xref\":\"paper\",\"y\":1.0,\"yanchor\":\"bottom\",\"yref\":\"paper\"},{\"font\":{},\"showarrow\":false,\"text\":\"9\",\"x\":0.908,\"xanchor\":\"center\",\"xref\":\"paper\",\"y\":1.0,\"yanchor\":\"bottom\",\"yref\":\"paper\"}],\"legend\":{\"title\":{\"text\":\"trt\"},\"tracegroupgap\":0},\"margin\":{\"t\":60},\"font\":{\"size\":20,\"color\":\"#000000\",\"family\":\"Old Standard TT\"},\"title\":{\"text\":\"Wheat\"},\"plot_bgcolor\":\"lavender\"},                        {\"responsive\": true}                    ).then(function(){\n",
       "                            \n",
       "var gd = document.getElementById('8cd17caf-1273-4e6b-9a95-5b220a2257b5');\n",
       "var x = new MutationObserver(function (mutations, observer) {{\n",
       "        var display = window.getComputedStyle(gd).display;\n",
       "        if (!display || display === 'none') {{\n",
       "            console.log([gd, 'removed!']);\n",
       "            Plotly.purge(gd);\n",
       "            observer.disconnect();\n",
       "        }}\n",
       "}});\n",
       "\n",
       "// Listen for the removal of the full notebook cells\n",
       "var notebookContainer = gd.closest('#notebook-container');\n",
       "if (notebookContainer) {{\n",
       "    x.observe(notebookContainer, {childList: true});\n",
       "}}\n",
       "\n",
       "// Listen for the clearing of the current output cell\n",
       "var outputEl = gd.closest('.output');\n",
       "if (outputEl) {{\n",
       "    x.observe(outputEl, {childList: true});\n",
       "}}\n",
       "\n",
       "                        })                };                });            </script>        </div>"
      ]
     },
     "metadata": {},
     "output_type": "display_data"
    }
   ],
   "source": [
    "# make graps\n",
    "#g = sns.FacetGrid(dfinal, col='crop', hue='trt')\n",
    "#g.map(sns.scatterplot, 'days after sowing', 'mean', alpha=.7)\n",
    "#g.add_legend()\n",
    "df_crop = dfinal[dfinal['crop'] == 'Wheat']\n",
    "#df_plt = df_maize[df_maize['plot'] == 3]\n",
    "\n",
    "fig = px.line(df_crop, x='days after sowing', y='mean', color='trt',labels={\"color\": \"Group\"}, facet_col='plot')\n",
    "\n",
    "fig.update_layout(title=df_crop['crop'].unique().tolist()[0],\n",
    "                      xaxis_title='Days after sowing',\n",
    "                      yaxis_title='NDVI',\n",
    "                      plot_bgcolor='lavender',\n",
    "                      font_size=20,\n",
    "                      font_color='#000000',\n",
    "                      font_family='Old Standard TT')\n",
    "\n",
    "fig.for_each_annotation(lambda a: a.update(text=a.text.split(\"=\")[-1]))\n",
    "\n",
    "fig.for_each_xaxis(lambda y: y.update(title = ''))\n",
    "\n",
    "fig.update_layout(xaxis_title='Days after sowing')"
   ]
  },
  {
   "cell_type": "code",
   "execution_count": 58,
   "id": "34fa625f",
   "metadata": {},
   "outputs": [
    {
     "data": {
      "text/plain": [
       "'Maize'"
      ]
     },
     "execution_count": 58,
     "metadata": {},
     "output_type": "execute_result"
    }
   ],
   "source": [
    "df_crop['crop'].unique().tolist()[0]"
   ]
  },
  {
   "cell_type": "code",
   "execution_count": null,
   "id": "b832f6d3",
   "metadata": {},
   "outputs": [],
   "source": [
    "g = sns.FacetGrid(tips, col=\"sex\", hue=\"smoker\")\n",
    "g.map(sns.scatterplot, \"total_bill\", \"tip\", alpha=.7)\n",
    "g.add_legend()"
   ]
  },
  {
   "cell_type": "code",
   "execution_count": null,
   "id": "3b35b7f7",
   "metadata": {},
   "outputs": [],
   "source": [
    "mylist = ['nowplaying', 'PBS', 'PBS', 'nowplaying', 'job', 'debate', 'thenandnow']\n",
    "print(mylist)\n",
    "myset = set(mylist)\n",
    "print(myset)"
   ]
  }
 ],
 "metadata": {
  "kernelspec": {
   "display_name": "Python 3 (ipykernel)",
   "language": "python",
   "name": "python3"
  },
  "language_info": {
   "codemirror_mode": {
    "name": "ipython",
    "version": 3
   },
   "file_extension": ".py",
   "mimetype": "text/x-python",
   "name": "python",
   "nbconvert_exporter": "python",
   "pygments_lexer": "ipython3",
   "version": "3.10.0"
  }
 },
 "nbformat": 4,
 "nbformat_minor": 5
}
